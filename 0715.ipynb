{
 "cells": [
  {
   "cell_type": "code",
   "execution_count": 1,
   "metadata": {},
   "outputs": [
    {
     "data": {
      "text/plain": [
       "(404, 'eorror')"
      ]
     },
     "execution_count": 1,
     "metadata": {},
     "output_type": "execute_result"
    }
   ],
   "source": [
    "(404,\"eorror\")\n"
   ]
  },
  {
   "cell_type": "code",
   "execution_count": null,
   "metadata": {},
   "outputs": [],
   "source": []
  },
  {
   "cell_type": "code",
   "execution_count": 3,
   "metadata": {},
   "outputs": [],
   "source": [
    "def get_tuple():\n",
    "    return (404,\"error\")"
   ]
  },
  {
   "cell_type": "code",
   "execution_count": 4,
   "metadata": {},
   "outputs": [
    {
     "name": "stdout",
     "output_type": "stream",
     "text": [
      "404\n",
      "error\n"
     ]
    }
   ],
   "source": [
    "(code,message)=get_tuple()\n",
    "print(code)\n",
    "print(message)\n"
   ]
  },
  {
   "cell_type": "code",
   "execution_count": 5,
   "metadata": {},
   "outputs": [
    {
     "data": {
      "text/plain": [
       "(404,)"
      ]
     },
     "execution_count": 5,
     "metadata": {},
     "output_type": "execute_result"
    }
   ],
   "source": [
    "(404,)"
   ]
  },
  {
   "cell_type": "code",
   "execution_count": null,
   "metadata": {},
   "outputs": [],
   "source": [
    "#LIST"
   ]
  },
  {
   "cell_type": "code",
   "execution_count": 6,
   "metadata": {},
   "outputs": [
    {
     "data": {
      "text/plain": [
       "[1, 2, 3, 4, 5, 6, 7, 8, 9]"
      ]
     },
     "execution_count": 6,
     "metadata": {},
     "output_type": "execute_result"
    }
   ],
   "source": [
    "list(range(1,10))\n"
   ]
  },
  {
   "cell_type": "code",
   "execution_count": 7,
   "metadata": {},
   "outputs": [
    {
     "data": {
      "text/plain": [
       "['a', 'b', 'c', 1, 2, 3]"
      ]
     },
     "execution_count": 7,
     "metadata": {},
     "output_type": "execute_result"
    }
   ],
   "source": [
    "list(('a','b','c',1, 2, 3))"
   ]
  },
  {
   "cell_type": "code",
   "execution_count": 8,
   "metadata": {},
   "outputs": [
    {
     "data": {
      "text/plain": [
       "[78, 98, 56, 74, 79]"
      ]
     },
     "execution_count": 8,
     "metadata": {},
     "output_type": "execute_result"
    }
   ],
   "source": [
    "#符號建立\n",
    "stu1 = [78, 98, 56, 74, 79]\n",
    "stu1"
   ]
  },
  {
   "cell_type": "code",
   "execution_count": 11,
   "metadata": {},
   "outputs": [],
   "source": [
    "enmpy_list = []\n",
    "weekdays = ['星期一', '星期二', '星期三', '星期四', '星期五', '星期六', '星期日']\n",
    "big_birds = ['emu', 'ostrich', 'cassowary']\n",
    "first_names = ['Graham', 'John', 'Terry', 'Terry', 'Michael']"
   ]
  },
  {
   "cell_type": "code",
   "execution_count": 12,
   "metadata": {},
   "outputs": [
    {
     "data": {
      "text/plain": [
       "['Graham', 'John', 'Terry', 'Terry', 'Michael']"
      ]
     },
     "execution_count": 12,
     "metadata": {},
     "output_type": "execute_result"
    }
   ],
   "source": [
    "first_names"
   ]
  },
  {
   "cell_type": "code",
   "execution_count": 13,
   "metadata": {},
   "outputs": [
    {
     "data": {
      "text/plain": [
       "list"
      ]
     },
     "execution_count": 13,
     "metadata": {},
     "output_type": "execute_result"
    }
   ],
   "source": [
    "type(first_names)\n"
   ]
  },
  {
   "cell_type": "code",
   "execution_count": null,
   "metadata": {},
   "outputs": [],
   "source": []
  },
  {
   "cell_type": "code",
   "execution_count": 10,
   "metadata": {},
   "outputs": [
    {
     "name": "stdout",
     "output_type": "stream",
     "text": [
      "78\n",
      "98\n",
      "56\n",
      "74\n",
      "79\n"
     ]
    }
   ],
   "source": [
    "for score in stu1:\n",
    "    print(score)"
   ]
  },
  {
   "cell_type": "code",
   "execution_count": null,
   "metadata": {},
   "outputs": [],
   "source": [
    "words = list(\"Hello\")"
   ]
  },
  {
   "cell_type": "code",
   "execution_count": 14,
   "metadata": {},
   "outputs": [
    {
     "data": {
      "text/plain": [
       "['H', 'e', 'l', 'l', 'o', 'W', 'o', 'r', 'l', 'd']"
      ]
     },
     "execution_count": 14,
     "metadata": {},
     "output_type": "execute_result"
    }
   ],
   "source": [
    "words = list(\"HelloWorld\")\n",
    "words"
   ]
  },
  {
   "cell_type": "code",
   "execution_count": 15,
   "metadata": {},
   "outputs": [
    {
     "data": {
      "text/plain": [
       "['H', 'e', 'l', 'l', 'o']"
      ]
     },
     "execution_count": 15,
     "metadata": {},
     "output_type": "execute_result"
    }
   ],
   "source": [
    "#slice切割\n",
    "words[0:5]"
   ]
  },
  {
   "cell_type": "code",
   "execution_count": 16,
   "metadata": {},
   "outputs": [
    {
     "data": {
      "text/plain": [
       "['W', 'o', 'r', 'l']"
      ]
     },
     "execution_count": 16,
     "metadata": {},
     "output_type": "execute_result"
    }
   ],
   "source": [
    "words[-5:-1]"
   ]
  },
  {
   "cell_type": "markdown",
   "metadata": {},
   "source": []
  },
  {
   "cell_type": "markdown",
   "metadata": {},
   "source": []
  },
  {
   "cell_type": "code",
   "execution_count": 17,
   "metadata": {},
   "outputs": [
    {
     "data": {
      "text/plain": [
       "['W', 'o', 'r', 'l', 'd']"
      ]
     },
     "execution_count": 17,
     "metadata": {},
     "output_type": "execute_result"
    }
   ],
   "source": [
    "words[-5:]"
   ]
  },
  {
   "cell_type": "code",
   "execution_count": 18,
   "metadata": {},
   "outputs": [
    {
     "data": {
      "text/plain": [
       "['H', 'e', 'l', 'l', 'o']"
      ]
     },
     "execution_count": 18,
     "metadata": {},
     "output_type": "execute_result"
    }
   ],
   "source": [
    "words[:5]"
   ]
  },
  {
   "cell_type": "code",
   "execution_count": 19,
   "metadata": {},
   "outputs": [
    {
     "data": {
      "text/plain": [
       "[['筆記電腦', '商用筆電'], ['APPLE', 'ASUS', 'HTC'], [3, '冰箱', 2, '洗衣機']]"
      ]
     },
     "execution_count": 19,
     "metadata": {},
     "output_type": "execute_result"
    }
   ],
   "source": [
    "#2維list\n",
    "nb = ['筆記電腦', '商用筆電']\n",
    "mobile = ['APPLE', 'ASUS', 'HTC']\n",
    "home = [3, '冰箱', 2, '洗衣機']\n",
    "all3c = [nb, mobile, home]\n",
    "all3c"
   ]
  },
  {
   "cell_type": "code",
   "execution_count": 20,
   "metadata": {},
   "outputs": [
    {
     "name": "stdout",
     "output_type": "stream",
     "text": [
      "['筆記電腦', '商用筆電']\n",
      "['APPLE', 'ASUS', 'HTC']\n",
      "[3, '冰箱', 2, '洗衣機']\n"
     ]
    }
   ],
   "source": [
    "print(all3c[0])\n",
    "print(all3c[1])\n",
    "print(all3c[2])"
   ]
  },
  {
   "cell_type": "code",
   "execution_count": 21,
   "metadata": {},
   "outputs": [
    {
     "name": "stdout",
     "output_type": "stream",
     "text": [
      "筆記電腦\n",
      "APPLE\n",
      "3\n"
     ]
    }
   ],
   "source": [
    "print(all3c[0][0])\n",
    "print(all3c[1][0])\n",
    "print(all3c[2][0])"
   ]
  },
  {
   "cell_type": "code",
   "execution_count": 1,
   "metadata": {},
   "outputs": [
    {
     "data": {
      "text/plain": [
       "87"
      ]
     },
     "execution_count": 1,
     "metadata": {},
     "output_type": "execute_result"
    }
   ],
   "source": [
    "import random\n",
    "random.randint(50, 100)"
   ]
  },
  {
   "cell_type": "code",
   "execution_count": 2,
   "metadata": {},
   "outputs": [
    {
     "data": {
      "text/plain": [
       "[51, 52, 52, 87, 68]"
      ]
     },
     "execution_count": 2,
     "metadata": {},
     "output_type": "execute_result"
    }
   ],
   "source": [
    "stu1 = list()\n",
    "for _ in range(5):\n",
    "    stu1.append(random.randint(50,  100))\n",
    "stu1"
   ]
  },
  {
   "cell_type": "code",
   "execution_count": 3,
   "metadata": {},
   "outputs": [
    {
     "data": {
      "text/plain": [
       "[93, 58, 100, 89, 96]"
      ]
     },
     "execution_count": 3,
     "metadata": {},
     "output_type": "execute_result"
    }
   ],
   "source": [
    "stu1 = list()\n",
    "for _ in range(5):\n",
    "    stu1.append(random.randint(50,  100))\n",
    "stu1"
   ]
  },
  {
   "cell_type": "code",
   "execution_count": 4,
   "metadata": {},
   "outputs": [
    {
     "data": {
      "text/plain": [
       "[[74, 79, 83, 94, 91],\n",
       " [81, 64, 75, 92, 88],\n",
       " [61, 77, 75, 52, 85],\n",
       " [92, 97, 89, 55, 65],\n",
       " [80, 88, 97, 51, 59],\n",
       " [85, 50, 86, 72, 93],\n",
       " [98, 87, 73, 62, 56],\n",
       " [67, 74, 100, 58, 77],\n",
       " [67, 99, 92, 67, 73],\n",
       " [75, 94, 73, 86, 85],\n",
       " [52, 83, 87, 61, 93],\n",
       " [67, 99, 61, 82, 82],\n",
       " [75, 65, 85, 53, 53],\n",
       " [73, 65, 68, 52, 85],\n",
       " [79, 55, 58, 65, 68],\n",
       " [92, 69, 68, 75, 68],\n",
       " [77, 100, 63, 71, 53],\n",
       " [83, 84, 84, 53, 83],\n",
       " [85, 53, 64, 90, 76],\n",
       " [94, 52, 86, 90, 93],\n",
       " [63, 90, 97, 59, 91],\n",
       " [72, 95, 71, 59, 72],\n",
       " [100, 78, 76, 69, 77],\n",
       " [72, 62, 58, 54, 92],\n",
       " [62, 61, 69, 62, 78],\n",
       " [64, 50, 76, 77, 85],\n",
       " [78, 93, 65, 76, 95],\n",
       " [93, 75, 76, 91, 68],\n",
       " [74, 51, 74, 77, 69],\n",
       " [94, 56, 86, 62, 83],\n",
       " [92, 90, 91, 60, 67],\n",
       " [88, 51, 61, 98, 68],\n",
       " [88, 80, 79, 77, 70],\n",
       " [60, 99, 95, 57, 86],\n",
       " [87, 61, 94, 61, 94],\n",
       " [88, 81, 81, 91, 77],\n",
       " [62, 89, 81, 55, 81],\n",
       " [96, 53, 88, 94, 69],\n",
       " [55, 83, 59, 72, 64],\n",
       " [81, 64, 63, 56, 78],\n",
       " [68, 89, 94, 85, 76],\n",
       " [52, 82, 56, 62, 77],\n",
       " [52, 55, 53, 94, 50],\n",
       " [100, 100, 83, 57, 82],\n",
       " [82, 67, 54, 81, 53],\n",
       " [59, 50, 76, 78, 63],\n",
       " [69, 50, 55, 90, 74],\n",
       " [59, 52, 95, 76, 57],\n",
       " [90, 75, 88, 70, 70],\n",
       " [74, 79, 79, 56, 79]]"
      ]
     },
     "execution_count": 4,
     "metadata": {},
     "output_type": "execute_result"
    }
   ],
   "source": [
    "students  = []\n",
    "for _  in range(50):\n",
    "    stu = list()\n",
    "    for _ in range(5):\n",
    "        stu.append(random.randint(50,  100))\n",
    "    students.append(stu)\n",
    "students"
   ]
  },
  {
   "cell_type": "code",
   "execution_count": 2,
   "metadata": {},
   "outputs": [],
   "source": [
    "file = open('hello1.txt',mode='w',encoding=\"utf-8\")\n",
    "file.write(\"這是第一行\\n\")\n",
    "file.write(\"這是第二行\\n\")\n",
    "file.writelines(\"\"\"這是第三行\n",
    "這是第四行\n",
    "這是第五行\n",
    "\"\"\")\n",
    "file.close()"
   ]
  },
  {
   "cell_type": "code",
   "execution_count": 3,
   "metadata": {},
   "outputs": [],
   "source": [
    "file = open('hello1.txt',mode='w',encoding=\"utf-8\")\n",
    "file.write(\"這是第一行\\n\")\n",
    "file.write(\"這是第二行\\n\")\n",
    "file.writelines(\"\"\"這是第三行\n",
    "這是第四行\n",
    "這是第五行\n",
    "\"\"\")\n",
    "file.close()"
   ]
  },
  {
   "cell_type": "code",
   "execution_count": 4,
   "metadata": {},
   "outputs": [
    {
     "name": "stdout",
     "output_type": "stream",
     "text": [
      "這是第一行\n",
      "這是第二行\n",
      "這是第三行\n",
      "這是第四行\n",
      "這是第五行\n",
      "\n"
     ]
    }
   ],
   "source": [
    "file = open('hello1.txt',mode='r',encoding=\"utf-8\")\n",
    "all_text = file.read()\n",
    "print(all_text)"
   ]
  },
  {
   "cell_type": "code",
   "execution_count": 2,
   "metadata": {},
   "outputs": [
    {
     "data": {
      "text/plain": [
       "[[74, 59, 77, 100, 56],\n",
       " [50, 85, 67, 56, 57],\n",
       " [90, 69, 60, 58, 50],\n",
       " [51, 78, 51, 55, 50],\n",
       " [98, 72, 100, 56, 60],\n",
       " [90, 72, 88, 78, 58],\n",
       " [90, 94, 77, 76, 75],\n",
       " [81, 78, 55, 69, 57],\n",
       " [66, 90, 89, 61, 100],\n",
       " [54, 61, 92, 60, 58],\n",
       " [73, 82, 96, 69, 88],\n",
       " [62, 65, 72, 95, 54],\n",
       " [67, 71, 78, 61, 73],\n",
       " [59, 59, 55, 99, 87],\n",
       " [100, 65, 94, 64, 94],\n",
       " [52, 53, 66, 63, 52],\n",
       " [73, 76, 81, 65, 94],\n",
       " [63, 85, 65, 60, 68],\n",
       " [69, 82, 56, 84, 86],\n",
       " [52, 98, 51, 86, 80],\n",
       " [91, 96, 67, 71, 54],\n",
       " [52, 82, 66, 86, 50],\n",
       " [72, 91, 65, 88, 88],\n",
       " [81, 83, 53, 56, 73],\n",
       " [89, 64, 55, 100, 91],\n",
       " [75, 52, 63, 91, 98],\n",
       " [52, 55, 84, 88, 94],\n",
       " [83, 59, 79, 89, 78],\n",
       " [81, 52, 56, 74, 58],\n",
       " [86, 89, 87, 61, 92],\n",
       " [87, 58, 61, 53, 81],\n",
       " [92, 50, 74, 71, 75],\n",
       " [99, 99, 97, 81, 80],\n",
       " [99, 82, 94, 52, 82],\n",
       " [90, 76, 71, 67, 68],\n",
       " [78, 59, 77, 91, 63],\n",
       " [70, 51, 71, 72, 66],\n",
       " [88, 87, 80, 54, 82],\n",
       " [80, 53, 77, 69, 85],\n",
       " [71, 78, 86, 64, 74],\n",
       " [96, 70, 70, 73, 52],\n",
       " [62, 73, 58, 80, 83],\n",
       " [70, 98, 51, 90, 99],\n",
       " [55, 95, 91, 54, 51],\n",
       " [72, 54, 84, 98, 67],\n",
       " [84, 88, 60, 52, 57],\n",
       " [92, 82, 61, 75, 95],\n",
       " [62, 54, 61, 72, 65],\n",
       " [75, 64, 84, 87, 73],\n",
       " [68, 73, 98, 82, 64]]"
      ]
     },
     "execution_count": 2,
     "metadata": {},
     "output_type": "execute_result"
    }
   ],
   "source": [
    "import random\n",
    "students  = []\n",
    "for _  in range(50):\n",
    "    stu = list()\n",
    "    for _ in range(5):\n",
    "        stu.append(random.randint(50,  100))\n",
    "    students.append(stu)\n",
    "students"
   ]
  },
  {
   "cell_type": "code",
   "execution_count": 10,
   "metadata": {},
   "outputs": [
    {
     "name": "stdout",
     "output_type": "stream",
     "text": [
      "這是第一行\n",
      "這是第二行\n",
      "這是第三行\n",
      "這是第四行\n",
      "這是第五行\n",
      "\n"
     ]
    }
   ],
   "source": [
    "file = open('hello1.txt',mode='r',encoding=\"utf-8\")\n",
    "all_text = file.read()\n",
    "print(all_text)"
   ]
  },
  {
   "cell_type": "code",
   "execution_count": 3,
   "metadata": {},
   "outputs": [
    {
     "ename": "NameError",
     "evalue": "name 'students' is not defined",
     "output_type": "error",
     "traceback": [
      "\u001b[0;31m---------------------------------------------------------------------------\u001b[0m",
      "\u001b[0;31mNameError\u001b[0m                                 Traceback (most recent call last)",
      "Cell \u001b[0;32mIn[3], line 5\u001b[0m\n\u001b[1;32m      3\u001b[0m csv_writer \u001b[39m=\u001b[39m csv\u001b[39m.\u001b[39mwriter(csv_write_file)\n\u001b[1;32m      4\u001b[0m csv_writer\u001b[39m.\u001b[39mwriterow([\u001b[39m'\u001b[39m\u001b[39m國文\u001b[39m\u001b[39m'\u001b[39m,\u001b[39m'\u001b[39m\u001b[39m英文\u001b[39m\u001b[39m'\u001b[39m,\u001b[39m'\u001b[39m\u001b[39m數學\u001b[39m\u001b[39m'\u001b[39m,\u001b[39m'\u001b[39m\u001b[39m地理\u001b[39m\u001b[39m'\u001b[39m,\u001b[39m'\u001b[39m\u001b[39m歷史\u001b[39m\u001b[39m'\u001b[39m])\n\u001b[0;32m----> 5\u001b[0m csv_writer\u001b[39m.\u001b[39mwriterows(students)\n\u001b[1;32m      6\u001b[0m csv_write_file\u001b[39m.\u001b[39mclose()\n",
      "\u001b[0;31mNameError\u001b[0m: name 'students' is not defined"
     ]
    }
   ],
   "source": [
    "import csv\n",
    "csv_write_file = open('students.csv',newline='',mode='w',encoding='utf-8')\n",
    "csv_writer = csv.writer(csv_write_file)\n",
    "csv_writer.writerow(['國文','英文','數學','地理','歷史'])\n",
    "csv_writer.writerows(students)\n",
    "csv_write_file.close()"
   ]
  },
  {
   "cell_type": "code",
   "execution_count": 12,
   "metadata": {},
   "outputs": [],
   "source": [
    "filename = '111年-雙溪區.csv'\n",
    "file = open(filename,mode='r',encoding='utf-8',newline='')"
   ]
  },
  {
   "cell_type": "code",
   "execution_count": 13,
   "metadata": {},
   "outputs": [
    {
     "name": "stdout",
     "output_type": "stream",
     "text": [
      "['雙溪區', '土地', '柑腳段柑腳小段98-1地號', '34', '', '山坡地保育區', '丙種建築用地', '1110107', '土地1建物0車位0', '', '', '其他', '', '', '', '0', '0', '0', '0', '有', '無', '102000', '3000', '', '0', '0', '親友、員工、共有人或其他特殊關係間之交易；', 'RPRNMLOKJHHGFFF97EA', '0', '0', '0', '無']\n",
      "['雙溪區', '土地', '柑腳段外柑腳小段49-2地號', '4347', '', '山坡地保育區', '農牧用地', '1101207', '土地1建物0車位0', '', '', '其他', '', '', '', '0', '0', '0', '0', '有', '無', '7510000', '1728', '', '0', '0', '', 'RPPNMLPJJHHGFFF77EA', '0', '0', '0', '無']\n",
      "['雙溪區', '土地', '柑腳段柑腳小段98-4地號', '664.75', '', '山坡地保育區', '農牧用地', '1101115', '土地2建物0車位0', '', '', '其他', '', '', '', '0', '0', '0', '0', '有', '無', '2500000', '3761', '', '0', '0', '交易價格含地上未辦保存登記建物。未登記建物；', 'RPRNMLPJJHHGFFF97EA', '0', '0', '0', '無']\n",
      "['雙溪區', '土地', '柑腳段外柑腳小段304地號', '433.33', '', '山坡地保育區', '丙種建築用地', '1110426', '土地1建物0車位0', '', '', '其他', '', '', '', '0', '0', '0', '0', '有', '無', '2151000', '4964', '', '0', '0', '地清或未辦繼承標售；', 'RPRNMLQLMHHGFFF58EA', '0', '0', '0', '無']\n",
      "['雙溪區', '土地', '柑腳段中坑小段9地號', '223', '', '山坡地保育區', '農牧用地', '1110322', '土地1建物0車位0', '', '', '其他', '', '', '', '0', '0', '0', '0', '有', '無', '50000', '224', '', '0', '0', '', 'RPSNMLPKMHHGFFF48EA', '0', '0', '0', '無']\n",
      "['雙溪區', '土地', '柑腳段中坑小段3-1地號', '170', '', '山坡地保育區', '丙種建築用地', '1110322', '土地1建物0車位0', '', '', '其他', '', '', '', '0', '0', '0', '0', '有', '無', '261000', '1535', '', '0', '0', '地清或未辦繼承標售；', 'RPQNMLTLMHHGFFF78EA', '0', '0', '0', '無']\n",
      "['雙溪區', '土地', '柑腳段外柑腳小段23地號', '2962.5', '', '山坡地保育區', '農牧用地', '1110701', '土地3建物0車位0', '', '', '其他', '', '', '', '0', '0', '0', '0', '有', '無', '2680000', '905', '', '0', '0', '', 'RPPNMLMLPHHGFFF28EA', '0', '0', '0', '無']\n",
      "['雙溪區', '土地', '柑腳段柑腳小段351地號', '76.5', '', '鄉村區', '乙種建築用地', '1111019', '土地1建物0車位0', '', '', '其他', '', '', '', '0', '0', '0', '0', '有', '無', '300000', '3922', '', '0', '0', '親友、員工、共有人或其他特殊關係間之交易；未登記建物；', 'RPRNMLSJJIHGFFF28DA', '0', '0', '0', '無']\n",
      "['雙溪區', '土地', '柑腳段外柑腳小段24-1地號', '2076.25', '', '山坡地保育區', '農牧用地', '1110912', '土地4建物0車位0', '', '', '其他', '', '', '', '0', '0', '0', '0', '有', '無', '2850000', '1373', '', '0', '0', '', 'RPRNMLKLRHHGFFF48EA', '0', '0', '0', '無']\n"
     ]
    }
   ],
   "source": [
    "import csv\n",
    "csv_reader = csv.reader(file)\n",
    "data_all = list(csv_reader)\n",
    "for item in data_all:\n",
    "    if '柑腳段' in item[2]:\n",
    "        print(item)"
   ]
  }
 ],
 "metadata": {
  "kernelspec": {
   "display_name": "Python 3",
   "language": "python",
   "name": "python3"
  },
  "language_info": {
   "codemirror_mode": {
    "name": "ipython",
    "version": 3
   },
   "file_extension": ".py",
   "mimetype": "text/x-python",
   "name": "python",
   "nbconvert_exporter": "python",
   "pygments_lexer": "ipython3",
   "version": "3.10.4"
  },
  "orig_nbformat": 4
 },
 "nbformat": 4,
 "nbformat_minor": 2
}
