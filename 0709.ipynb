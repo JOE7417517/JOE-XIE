{
 "cells": [
  {
   "cell_type": "code",
   "execution_count": 4,
   "metadata": {},
   "outputs": [],
   "source": [
    "def func1(para1:int,para2:int):\n",
    "    return para1*para2/2\n"
   ]
  },
  {
   "cell_type": "code",
   "execution_count": 8,
   "metadata": {},
   "outputs": [
    {
     "name": "stdout",
     "output_type": "stream",
     "text": [
      "25.0\n",
      "840.0\n",
      "840.0\n",
      "840.0\n",
      "840.0\n",
      "840.0\n",
      "840.0\n"
     ]
    }
   ],
   "source": [
    "print(func1(5,10))\n",
    "print(func1(56 , 30))\n",
    "print(func1(56 , 30))\n",
    "print(func1(56 , 30))\n",
    "print(func1(56 , 30))\n",
    "print(func1(56 , 30))\n",
    "print(func1(56 , 30))"
   ]
  },
  {
   "cell_type": "code",
   "execution_count": null,
   "metadata": {},
   "outputs": [],
   "source": [
    "text = '''python與中文\n",
    "1. 我們來試試看中文儲存能力。\n",
    "2. 許這個字會有編碼衝突風險。\n",
    "3. 犇這個字必須是utf8編碼才有。'''\n",
    "\n",
    "file = open('hello.txt',mode='w')\n",
    "print(text,file=file)\n",
    "file.close()"
   ]
  }
 ],
 "metadata": {
  "kernelspec": {
   "display_name": "Python 3",
   "language": "python",
   "name": "python3"
  },
  "language_info": {
   "codemirror_mode": {
    "name": "ipython",
    "version": 3
   },
   "file_extension": ".py",
   "mimetype": "text/x-python",
   "name": "python",
   "nbconvert_exporter": "python",
   "pygments_lexer": "ipython3",
   "version": "3.10.4"
  },
  "orig_nbformat": 4
 },
 "nbformat": 4,
 "nbformat_minor": 2
}
